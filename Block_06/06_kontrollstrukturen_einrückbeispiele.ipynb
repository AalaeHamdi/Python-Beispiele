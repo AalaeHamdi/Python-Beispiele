{
 "cells": [
  {
   "cell_type": "code",
   "execution_count": 1,
   "metadata": {},
   "outputs": [
    {
     "name": "stdout",
     "output_type": "stream",
     "text": [
      "Endergebnis: 140\n"
     ]
    }
   ],
   "source": [
    "zahl = 90\n",
    "if (zahl > 100):\n",
    "    zahl -= 30\n",
    "    print(zahl)\n",
    "    \n",
    "zahl += 50\n",
    "print(\"Endergebnis:\", zahl)"
   ]
  },
  {
   "cell_type": "code",
   "execution_count": 2,
   "metadata": {},
   "outputs": [
    {
     "name": "stdout",
     "output_type": "stream",
     "text": [
      "Endergebnis: 90\n"
     ]
    }
   ],
   "source": [
    "zahl = 90\n",
    "if (zahl > 100):\n",
    "    zahl -= 30\n",
    "    print(zahl)\n",
    "    zahl += 50\n",
    "    \n",
    "print(\"Endergebnis:\", zahl)"
   ]
  },
  {
   "cell_type": "code",
   "execution_count": null,
   "metadata": {},
   "outputs": [],
   "source": []
  }
 ],
 "metadata": {
  "kernelspec": {
   "display_name": "Python 3",
   "language": "python",
   "name": "python3"
  },
  "language_info": {
   "codemirror_mode": {
    "name": "ipython",
    "version": 3
   },
   "file_extension": ".py",
   "mimetype": "text/x-python",
   "name": "python",
   "nbconvert_exporter": "python",
   "pygments_lexer": "ipython3",
   "version": "3.7.3"
  }
 },
 "nbformat": 4,
 "nbformat_minor": 2
}
