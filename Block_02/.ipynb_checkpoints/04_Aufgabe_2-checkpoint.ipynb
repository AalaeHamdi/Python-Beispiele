{
 "cells": [
  {
   "cell_type": "markdown",
   "metadata": {},
   "source": [
    "# Aufgabe 2\n",
    "Sie haben bereits mit Ein- und Ausgabe experimentiert und Steuerzeichen zur Formatierung von Ausgaben kennengelernt.\n",
    "Gehen Sie von folgendem einfachen Beispiel aus:"
   ]
  },
  {
   "cell_type": "code",
   "execution_count": 2,
   "metadata": {},
   "outputs": [
    {
     "name": "stdout",
     "output_type": "stream",
     "text": [
      "Willkommen bei Informatik!\n",
      "2 + 4 = 6\n"
     ]
    }
   ],
   "source": [
    "print(\"Willkommen bei Informatik!\");\n",
    "print(\"2 + 4 =\", 2 + 4)"
   ]
  },
  {
   "attachments": {},
   "cell_type": "markdown",
   "metadata": {},
   "source": [
    "## Aufgabe 2.1\n",
    "Verändern Sie diese Quellcode mit Steuerzeichen so, dass folgende Ausgabe erscheint. VErsuchen Sie diese Aufgabe in einer Zeile zu lösen. Verzichten Sie auf Leerzeichen.\n",
    " <img src=\"Aufgabe_2_1.jpg\" style=\"height:250px\">"
   ]
  },
  {
   "cell_type": "code",
   "execution_count": null,
   "metadata": {},
   "outputs": [],
   "source": []
  },
  {
   "cell_type": "markdown",
   "metadata": {},
   "source": [
    "## Aufgabe 2.2\n",
    "Experimentieren Sie nun mit unterschiedlichen Berechnungen. Nutzen Sie die input()-Funktion, um Zahlen durch den Benutzer eingeben zu lassen.\n"
   ]
  },
  {
   "cell_type": "code",
   "execution_count": null,
   "metadata": {},
   "outputs": [],
   "source": []
  }
 ],
 "metadata": {
  "kernelspec": {
   "display_name": "Python 3",
   "language": "python",
   "name": "python3"
  },
  "language_info": {
   "codemirror_mode": {
    "name": "ipython",
    "version": 3
   },
   "file_extension": ".py",
   "mimetype": "text/x-python",
   "name": "python",
   "nbconvert_exporter": "python",
   "pygments_lexer": "ipython3",
   "version": "3.7.3"
  }
 },
 "nbformat": 4,
 "nbformat_minor": 2
}
