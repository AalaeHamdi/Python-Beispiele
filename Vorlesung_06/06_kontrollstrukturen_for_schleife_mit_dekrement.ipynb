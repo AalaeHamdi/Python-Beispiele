{
 "cells": [
  {
   "cell_type": "code",
   "execution_count": 3,
   "metadata": {},
   "outputs": [
    {
     "name": "stdout",
     "output_type": "stream",
     "text": [
      "Im 1 .Durchlauf der Schleife hat die Laufvariable den Wert 10\n",
      "Im 2 .Durchlauf der Schleife hat die Laufvariable den Wert 8\n",
      "Im 3 .Durchlauf der Schleife hat die Laufvariable den Wert 6\n",
      "Im 4 .Durchlauf der Schleife hat die Laufvariable den Wert 4\n",
      "Im 5 .Durchlauf der Schleife hat die Laufvariable den Wert 2\n"
     ]
    }
   ],
   "source": [
    "zähler = 1\n",
    "for i in range(10, 0, -2):\n",
    "    # Die Schrittweite ist negativ, sodass die Schleife\n",
    "    # bei 10 anfängt und bei dem Durchlauf -2 auf die\n",
    "    # Laufvariable i rechnet\n",
    "    print(\"Im\", j, \". Durchlauf der Schleife hat die Laufvariable den Wert\", i)\n",
    "    #print(\"i hat den Wert:\", i)\n",
    "    zähler += 1"
   ]
  },
  {
   "cell_type": "code",
   "execution_count": null,
   "metadata": {},
   "outputs": [],
   "source": []
  }
 ],
 "metadata": {
  "kernelspec": {
   "display_name": "Python 3",
   "language": "python",
   "name": "python3"
  },
  "language_info": {
   "codemirror_mode": {
    "name": "ipython",
    "version": 3
   },
   "file_extension": ".py",
   "mimetype": "text/x-python",
   "name": "python",
   "nbconvert_exporter": "python",
   "pygments_lexer": "ipython3",
   "version": "3.7.3"
  }
 },
 "nbformat": 4,
 "nbformat_minor": 2
}
