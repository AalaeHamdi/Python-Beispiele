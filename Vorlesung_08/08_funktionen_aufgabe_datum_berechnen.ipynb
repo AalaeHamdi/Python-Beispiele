{
 "cells": [
  {
   "cell_type": "code",
   "execution_count": 1,
   "metadata": {},
   "outputs": [
    {
     "name": "stdout",
     "output_type": "stream",
     "text": [
      "Das aktuelle Datum ist: 2019-09-12 14:42:05.061860\n"
     ]
    }
   ],
   "source": [
    "import datetime\n",
    "\n",
    "def zeit_ausgabe(zeit):\n",
    "    # Ausgabe des aktuellen Datums\n",
    "    print(\"Das aktuelle Datum ist:\", zeit)\n",
    "    \n",
    "def speicher_aktuelle_zeit():\n",
    "    # Abruf und Rückgabe des aktuellen Datums\n",
    "    return datetime.datetime.now()\n",
    "\n",
    "zeit = speicher_aktuelle_zeit()\n",
    "zeit_ausgabe(zeit)"
   ]
  },
  {
   "cell_type": "code",
   "execution_count": null,
   "metadata": {},
   "outputs": [],
   "source": [
    "import datetime\n",
    "\n",
    "def zeit_ausgabe(zeit):\n",
    "    # Gerüst der ersten Funktion\n",
    "    print()\n",
    "    \n",
    "  "
   ]
  }
 ],
 "metadata": {
  "kernelspec": {
   "display_name": "Python 3",
   "language": "python",
   "name": "python3"
  },
  "language_info": {
   "codemirror_mode": {
    "name": "ipython",
    "version": 3
   },
   "file_extension": ".py",
   "mimetype": "text/x-python",
   "name": "python",
   "nbconvert_exporter": "python",
   "pygments_lexer": "ipython3",
   "version": "3.7.3"
  }
 },
 "nbformat": 4,
 "nbformat_minor": 2
}
