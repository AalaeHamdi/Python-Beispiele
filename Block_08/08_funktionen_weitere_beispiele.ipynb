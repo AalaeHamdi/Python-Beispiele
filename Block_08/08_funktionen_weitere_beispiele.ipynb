{
 "cells": [
  {
   "cell_type": "markdown",
   "metadata": {},
   "source": [
    "# Methoden, Prozeduren und Funktionen\n"
   ]
  },
  {
   "cell_type": "raw",
   "metadata": {},
   "source": [
    "Die Modularisierung eines Programms bietet viele Vorteile:\n",
    "\n",
    "- Programmteile, die mehrmals benötigt werden, müssen nur einmal geschrieben werden\n",
    "\n",
    "- Programmteile können in anderen Programmen verwendet werden\n",
    "\n",
    "- Komplexe Programme können übersichtlicher aufgebaut werden"
   ]
  },
  {
   "cell_type": "markdown",
   "metadata": {},
   "source": [
    "## Methoden, Prozeduren und Funktionen"
   ]
  },
  {
   "cell_type": "code",
   "execution_count": 1,
   "metadata": {},
   "outputs": [
    {
     "ename": "SyntaxError",
     "evalue": "invalid syntax (<ipython-input-1-abea626665a0>, line 1)",
     "output_type": "error",
     "traceback": [
      "\u001b[1;36m  File \u001b[1;32m\"<ipython-input-1-abea626665a0>\"\u001b[1;36m, line \u001b[1;32m1\u001b[0m\n\u001b[1;33m    Prozeduren: Unterprogramme, die keinen Rückgabewert liefern\u001b[0m\n\u001b[1;37m                              ^\u001b[0m\n\u001b[1;31mSyntaxError\u001b[0m\u001b[1;31m:\u001b[0m invalid syntax\n"
     ]
    }
   ],
   "source": [
    "Prozeduren: Unterprogramme, die keinen Rückgabewert liefern\n",
    "\n",
    "Funktionen: Unterprogramme, die einen Rückgabewert liefern\n",
    "    \n",
    "Methoden: "
   ]
  },
  {
   "cell_type": "markdown",
   "metadata": {},
   "source": [
    "## Parameterübergabe"
   ]
  },
  {
   "cell_type": "code",
   "execution_count": 2,
   "metadata": {},
   "outputs": [
    {
     "name": "stdout",
     "output_type": "stream",
     "text": [
      "Heute ist der 2019-09-12 14:00:09.868899\n"
     ]
    }
   ],
   "source": [
    "import datetime\n",
    "\n",
    "def ergebnis_ausgabe(input_string):\n",
    "    # Die Prozedur ergebnis_ausgabe erzeugt\n",
    "    # eine Bildschirmausgabe des übergebenen Strings\n",
    "    print(input_string)\n",
    "    \n",
    "ergebnis_ausgabe(\"Heute ist der \" + str(datetime.datetime.now()))"
   ]
  },
  {
   "cell_type": "code",
   "execution_count": 3,
   "metadata": {},
   "outputs": [
    {
     "ename": "SyntaxError",
     "evalue": "invalid syntax (<ipython-input-3-dc73113da728>, line 1)",
     "output_type": "error",
     "traceback": [
      "\u001b[1;36m  File \u001b[1;32m\"<ipython-input-3-dc73113da728>\"\u001b[1;36m, line \u001b[1;32m1\u001b[0m\n\u001b[1;33m    Übung:\u001b[0m\n\u001b[1;37m          ^\u001b[0m\n\u001b[1;31mSyntaxError\u001b[0m\u001b[1;31m:\u001b[0m invalid syntax\n"
     ]
    }
   ],
   "source": [
    "Übung:\n",
    "    Schreiben Sie ein Programm, welches den Kreisumfang "
   ]
  },
  {
   "cell_type": "code",
   "execution_count": null,
   "metadata": {},
   "outputs": [],
   "source": [
    "def funktionsname(Parameterliste):"
   ]
  },
  {
   "cell_type": "code",
   "execution_count": null,
   "metadata": {},
   "outputs": [],
   "source": [
    "def quadrat_von_3():\n",
    "    # Definition der Funktion\n",
    "    print(3*3)\n",
    "    \n",
    "    "
   ]
  },
  {
   "cell_type": "code",
   "execution_count": 7,
   "metadata": {},
   "outputs": [
    {
     "ename": "NameError",
     "evalue": "name 'nutzungsbedingungen_ausgeben' is not defined",
     "output_type": "error",
     "traceback": [
      "\u001b[1;31m---------------------------------------------------------------------------\u001b[0m",
      "\u001b[1;31mNameError\u001b[0m                                 Traceback (most recent call last)",
      "\u001b[1;32m<ipython-input-7-cc33b2e3eb0e>\u001b[0m in \u001b[0;36m<module>\u001b[1;34m\u001b[0m\n\u001b[0;32m      1\u001b[0m \u001b[1;31m# Die Funktion wird an dieser Stelle aufgerufen\u001b[0m\u001b[1;33m\u001b[0m\u001b[1;33m\u001b[0m\u001b[1;33m\u001b[0m\u001b[0m\n\u001b[1;32m----> 2\u001b[1;33m \u001b[0mnutzungsbedingungen_ausgeben\u001b[0m\u001b[1;33m(\u001b[0m\u001b[1;33m)\u001b[0m\u001b[1;33m\u001b[0m\u001b[1;33m\u001b[0m\u001b[0m\n\u001b[0m\u001b[0;32m      3\u001b[0m \u001b[1;33m\u001b[0m\u001b[0m\n\u001b[0;32m      4\u001b[0m \u001b[1;31m# aber erst hier definiert, was zu einem NameError führt.\u001b[0m\u001b[1;33m\u001b[0m\u001b[1;33m\u001b[0m\u001b[1;33m\u001b[0m\u001b[0m\n\u001b[0;32m      5\u001b[0m \u001b[1;32mdef\u001b[0m \u001b[0mnutzungsbedingungen_ausgeben\u001b[0m\u001b[1;33m(\u001b[0m\u001b[1;33m)\u001b[0m\u001b[1;33m:\u001b[0m\u001b[1;33m\u001b[0m\u001b[1;33m\u001b[0m\u001b[0m\n",
      "\u001b[1;31mNameError\u001b[0m: name 'nutzungsbedingungen_ausgeben' is not defined"
     ]
    }
   ],
   "source": [
    "# Die Funktion wird an dieser Stelle aufgerufen\n",
    "nutzungsbedingungen_ausgeben()\n",
    "\n",
    "# aber erst hier definiert, was zu einem NameError führt.\n",
    "def nutzungsbedingungen_ausgeben():\n",
    "    print(\"Wenn Sie weiterhin an der Vorlesung teilnehmen, \\n \\\n",
    "           stimmen Sie folgendem zu: \\n \\\n",
    "           Informatik ist total interessant!!!\"\n",
    "         )\n"
   ]
  },
  {
   "cell_type": "code",
   "execution_count": null,
   "metadata": {},
   "outputs": [],
   "source": []
  }
 ],
 "metadata": {
  "kernelspec": {
   "display_name": "Python 3",
   "language": "python",
   "name": "python3"
  },
  "language_info": {
   "codemirror_mode": {
    "name": "ipython",
    "version": 3
   },
   "file_extension": ".py",
   "mimetype": "text/x-python",
   "name": "python",
   "nbconvert_exporter": "python",
   "pygments_lexer": "ipython3",
   "version": "3.7.3"
  }
 },
 "nbformat": 4,
 "nbformat_minor": 2
}
