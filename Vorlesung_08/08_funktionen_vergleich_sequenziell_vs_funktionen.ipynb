{
 "cells": [
  {
   "cell_type": "code",
   "execution_count": 4,
   "metadata": {},
   "outputs": [
    {
     "ename": "SyntaxError",
     "evalue": "invalid syntax (<ipython-input-4-a6df6ba908f7>, line 1)",
     "output_type": "error",
     "traceback": [
      "\u001b[1;36m  File \u001b[1;32m\"<ipython-input-4-a6df6ba908f7>\"\u001b[1;36m, line \u001b[1;32m1\u001b[0m\n\u001b[1;33m    1. import math\u001b[0m\n\u001b[1;37m            ^\u001b[0m\n\u001b[1;31mSyntaxError\u001b[0m\u001b[1;31m:\u001b[0m invalid syntax\n"
     ]
    }
   ],
   "source": [
    "1. import math \n",
    "\n",
    "def kreisumfang_berechnen(radius):\n",
    "6.    return 2*math.pi*radius\n",
    "\n",
    "def radius_abfragen():\n",
    "3.    radius = int(input(\"Bitte den Radius in cm eingeben\"))\n",
    "4.    return radius\n",
    "  \n",
    "2. radius = radius_abfragen()  \n",
    "5. kreisumfang = kreisumfang_berechnen(radius) \n",
    "7. print(f\"Der Kreisumfang beträgt {kreisumfang} cm\")\n"
   ]
  },
  {
   "cell_type": "code",
   "execution_count": 5,
   "metadata": {},
   "outputs": [
    {
     "name": "stdout",
     "output_type": "stream",
     "text": [
      "Bitte den Radius in cm eingeben10\n",
      "Der Kreisumfang beträgt 62.83185307179586 cm\n"
     ]
    }
   ],
   "source": [
    "1. import math \n",
    "\n",
    "2. radius = int(input(\"Bitte den Radius in cm eingeben\"))\n",
    "3. kreisumfang = 2*math.pi*radius\n",
    "4. print(f\"Der Kreisumfang beträgt {kreisumfang} cm\")\n"
   ]
  },
  {
   "cell_type": "code",
   "execution_count": null,
   "metadata": {},
   "outputs": [],
   "source": []
  }
 ],
 "metadata": {
  "kernelspec": {
   "display_name": "Python 3",
   "language": "python",
   "name": "python3"
  },
  "language_info": {
   "codemirror_mode": {
    "name": "ipython",
    "version": 3
   },
   "file_extension": ".py",
   "mimetype": "text/x-python",
   "name": "python",
   "nbconvert_exporter": "python",
   "pygments_lexer": "ipython3",
   "version": "3.7.3"
  }
 },
 "nbformat": 4,
 "nbformat_minor": 2
}
