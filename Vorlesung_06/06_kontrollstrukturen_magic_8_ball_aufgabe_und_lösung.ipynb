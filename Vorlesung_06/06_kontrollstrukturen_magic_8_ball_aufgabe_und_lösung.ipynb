{
 "cells": [
  {
   "cell_type": "code",
   "execution_count": 1,
   "metadata": {},
   "outputs": [
    {
     "ename": "SyntaxError",
     "evalue": "invalid syntax (<ipython-input-1-dec26c5621c5>, line 15)",
     "output_type": "error",
     "traceback": [
      "\u001b[1;36m  File \u001b[1;32m\"<ipython-input-1-dec26c5621c5>\"\u001b[1;36m, line \u001b[1;32m15\u001b[0m\n\u001b[1;33m    elif (            == 2):\u001b[0m\n\u001b[1;37m                       ^\u001b[0m\n\u001b[1;31mSyntaxError\u001b[0m\u001b[1;31m:\u001b[0m invalid syntax\n"
     ]
    }
   ],
   "source": [
    "# random Bibliothek importieren, um deren Funktionen nutzen zu können\n",
    "import random\n",
    "\n",
    "# Zufallsgenerator initialisieren, damit die Ergebnisse pseudozufällig werden\n",
    "random.seed()\n",
    "\n",
    "# Zufallszahl generieren, wobei untere_grenze, sowie\n",
    "# obere_grenze durch Ihre eigenen Werte ersetzt werden sollen\n",
    "zufallszahl = random.randint(untere_grenze, obere_grenze)\n",
    "\n",
    "if (zufallszahl == 0):\n",
    "    print('It is decidedly so')\n",
    "elif (zufallszahl == 1):\n",
    "    print('Without a doubt')\n",
    "elif (            == 2):\n",
    "    # ihr Code\n",
    "\n"
   ]
  },
  {
   "cell_type": "code",
   "execution_count": null,
   "metadata": {},
   "outputs": [],
   "source": [
    "import random\n",
    "random.seed()  # Zufallsgenerator initialisieren\n",
    "zufallszahl = random.randint(0, 7)  # Zufallszahl von 0 bis 7 generieren\n",
    "\n",
    "if (zufallszahl == 0):\n",
    "    print('It is decidedly so')\n",
    "elif (zufallszahl == 1):\n",
    "    print('Without a doubt')\n",
    "elif (zufallszahl == 2):\n",
    "    print('Yes - definitely')\n",
    "elif (zufallszahl == 3):\n",
    "    print('Reply hazy, try again')\n",
    "elif (zufallszahl == 4):\n",
    "    print('Ask again later')\n",
    "elif (zufallszahl == 5):\n",
    "    print('Cannot predict now')\n",
    "elif (zufallszahl == 6):\n",
    "    print('My reply is no')\n",
    "elif (zufallszahl == 7):\n",
    "    print('Very doubtful')"
   ]
  }
 ],
 "metadata": {
  "kernelspec": {
   "display_name": "Python 3",
   "language": "python",
   "name": "python3"
  },
  "language_info": {
   "codemirror_mode": {
    "name": "ipython",
    "version": 3
   },
   "file_extension": ".py",
   "mimetype": "text/x-python",
   "name": "python",
   "nbconvert_exporter": "python",
   "pygments_lexer": "ipython3",
   "version": "3.7.3"
  }
 },
 "nbformat": 4,
 "nbformat_minor": 2
}
