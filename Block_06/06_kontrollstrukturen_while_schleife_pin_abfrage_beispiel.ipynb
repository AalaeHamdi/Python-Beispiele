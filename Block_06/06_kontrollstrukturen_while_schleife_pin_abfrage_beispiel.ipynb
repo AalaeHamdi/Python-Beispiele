{
 "cells": [
  {
   "cell_type": "code",
   "execution_count": 2,
   "metadata": {},
   "outputs": [
    {
     "name": "stdout",
     "output_type": "stream",
     "text": [
      "Bitte Pin eingeben1111\n",
      "Bitte Pin eingeben9384\n",
      "PIN stimmt\n"
     ]
    }
   ],
   "source": [
    "pin = 9384\n",
    "pin_eingabe = 0\n",
    "\n",
    "while (pin_eingabe != pin):\n",
    "    # es wird solange nach der Pin-Eingabe gefragt,\n",
    "    # bis dieser richtig eingegeben wurde\n",
    "    pin_eingabe = int(input(\"Bitte Pin eingeben\"))\n",
    "    \n",
    "print(\"PIN stimmt\")"
   ]
  },
  {
   "cell_type": "code",
   "execution_count": null,
   "metadata": {},
   "outputs": [],
   "source": []
  }
 ],
 "metadata": {
  "kernelspec": {
   "display_name": "Python 3",
   "language": "python",
   "name": "python3"
  },
  "language_info": {
   "codemirror_mode": {
    "name": "ipython",
    "version": 3
   },
   "file_extension": ".py",
   "mimetype": "text/x-python",
   "name": "python",
   "nbconvert_exporter": "python",
   "pygments_lexer": "ipython3",
   "version": "3.7.3"
  }
 },
 "nbformat": 4,
 "nbformat_minor": 2
}
