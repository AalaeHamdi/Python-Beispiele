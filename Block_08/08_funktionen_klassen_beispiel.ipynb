{
 "cells": [
  {
   "cell_type": "code",
   "execution_count": 2,
   "metadata": {},
   "outputs": [
    {
     "name": "stdout",
     "output_type": "stream",
     "text": [
      "2.0\n"
     ]
    }
   ],
   "source": [
    "class Mathe():\n",
    "# Hier wird die Klasse mit dem Namen Mathe definiert\n",
    "\n",
    "    def division_durchführen(self, dividend, divisor):\n",
    "        # Methode division_durchführen teilt zwei übergebene Zahlen\n",
    "        # und gibt das Ergebnis auf dem Bildschirm aus\n",
    "        wert_des_quotienten = dividend / divisor\n",
    "        print(wert_des_quotienten)\n",
    "        \n",
    "# Syntax um eine Methode auszuführen:\n",
    "# name_der_klasse().name_der_methode(Parameter_liste)\n",
    "Mathe().division_durchführen(10, 5)"
   ]
  },
  {
   "cell_type": "code",
   "execution_count": null,
   "metadata": {},
   "outputs": [],
   "source": [
    "def division_durchführen(self, dividend, divisor):\n",
    "    # Methode division_durchführen teilt zwei übergebene Zahlen\n",
    "    # und gibt das Ergebnis auf dem Bildschirm aus\n",
    "    wert_des_quotienten = dividend / divisor\n",
    "    print(wert_des_quotienten)\n",
    "    \n",
    "division_durchführen(10, 5)    # Aufruf der Funktion division_durchführen"
   ]
  }
 ],
 "metadata": {
  "kernelspec": {
   "display_name": "Python 3",
   "language": "python",
   "name": "python3"
  },
  "language_info": {
   "codemirror_mode": {
    "name": "ipython",
    "version": 3
   },
   "file_extension": ".py",
   "mimetype": "text/x-python",
   "name": "python",
   "nbconvert_exporter": "python",
   "pygments_lexer": "ipython3",
   "version": "3.7.3"
  }
 },
 "nbformat": 4,
 "nbformat_minor": 2
}
