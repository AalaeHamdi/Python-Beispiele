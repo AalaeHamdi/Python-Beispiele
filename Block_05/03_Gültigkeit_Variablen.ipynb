{
 "cells": [
  {
   "cell_type": "markdown",
   "metadata": {},
   "source": [
    "### Gültigkeit von Variablen"
   ]
  },
  {
   "cell_type": "markdown",
   "metadata": {},
   "source": [
    "Im Standardfall hat eine Variable nur eine lokale Gültigkeit, d.h. die Wertzuweisung innerhalb einer Schleife oder einer Funktion hat keinen Einfluss auf den Wert dieser Variablen außerhalb der Schleife oder Funktion."
   ]
  },
  {
   "cell_type": "code",
   "execution_count": null,
   "metadata": {},
   "outputs": [],
   "source": [
    "def meine_funktion(): \n",
    "    zahl = 500\n",
    "    print(\"Wert der zahl innerhalb der Funktion: \", zahl) \n",
    "\n",
    "zahl = 100   \n",
    "meine_funktion()\n",
    "print(\"Wert der zahl außerhalb der Funktion: \", zahl)\n"
   ]
  },
  {
   "cell_type": "markdown",
   "metadata": {},
   "source": [
    "Zugriff auf eine Variable aus einer Funktion heraus."
   ]
  },
  {
   "cell_type": "code",
   "execution_count": null,
   "metadata": {
    "scrolled": true
   },
   "outputs": [],
   "source": [
    "def ausgabe(): \n",
    "    global text\n",
    "    text = \"Guten Tag\"\n",
    "    \n",
    "text = \"Hallo\"\n",
    "ausgabe()\n",
    "print(text)"
   ]
  },
  {
   "cell_type": "markdown",
   "metadata": {},
   "source": [
    "Andererseits gibt es auch die Möglichkeit, den Wert einer Variablen innerhalb einer Funktion von außen zu beeinflussen. Dies kann nützlich sein, wenn eine Variablen innerhalb einer Funktion und innerhalb zugehöriger Unterfunktionen verwendet wird."
   ]
  },
  {
   "cell_type": "code",
   "execution_count": null,
   "metadata": {},
   "outputs": [],
   "source": [
    "def myfunc1():\n",
    "  x = 100\n",
    "  def myfunc2():\n",
    "    nonlocal x\n",
    "    x = 333\n",
    "  myfunc2() \n",
    "  return x\n",
    "\n",
    "print(myfunc1())"
   ]
  }
 ],
 "metadata": {
  "kernelspec": {
   "display_name": "Python 3",
   "language": "python",
   "name": "python3"
  },
  "language_info": {
   "codemirror_mode": {
    "name": "ipython",
    "version": 3
   },
   "file_extension": ".py",
   "mimetype": "text/x-python",
   "name": "python",
   "nbconvert_exporter": "python",
   "pygments_lexer": "ipython3",
   "version": "3.7.3"
  }
 },
 "nbformat": 4,
 "nbformat_minor": 2
}
