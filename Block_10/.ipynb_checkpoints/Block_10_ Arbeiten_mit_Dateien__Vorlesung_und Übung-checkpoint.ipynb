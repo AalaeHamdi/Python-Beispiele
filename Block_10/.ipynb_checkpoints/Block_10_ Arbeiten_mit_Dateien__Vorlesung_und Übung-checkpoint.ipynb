{
 "cells": [
  {
   "cell_type": "markdown",
   "metadata": {},
   "source": [
    "# Schreiben in eine Datei"
   ]
  },
  {
   "cell_type": "code",
   "execution_count": 1,
   "metadata": {},
   "outputs": [],
   "source": [
    "file = open(\"Autos.txt\", \"w\")\n",
    "\n",
    "file.write(\"Automarken\\n\")\n",
    "file.write(\"\\n\")\n",
    "file.write(\"VW\\n\")\n",
    "file.write(\"Opel\\n\")\n",
    "file.write(\"Audi\\n\")\n",
    "file.write(\"Porsche\\n\")\n",
    "\n",
    "file.close()"
   ]
  },
  {
   "cell_type": "markdown",
   "metadata": {},
   "source": [
    "# Lesen aus einer Datei"
   ]
  },
  {
   "cell_type": "code",
   "execution_count": 3,
   "metadata": {},
   "outputs": [
    {
     "name": "stdout",
     "output_type": "stream",
     "text": [
      "Automarken\n",
      "\n",
      "VW\n",
      "Opel\n",
      "Audi\n",
      "Porsche\n",
      "\n"
     ]
    }
   ],
   "source": [
    "file = open(\"Autos.txt\", \"r\")\n",
    "\n",
    "print (file.read())\n",
    "\n",
    "file.close()"
   ]
  },
  {
   "cell_type": "code",
   "execution_count": 4,
   "metadata": {},
   "outputs": [
    {
     "name": "stdout",
     "output_type": "stream",
     "text": [
      "['Automarken\\n', '\\n', 'VW\\n', 'Opel\\n', 'Audi\\n', 'Porsche\\n']\n"
     ]
    }
   ],
   "source": [
    "file = open(\"Autos.txt\", \"r\")\n",
    "\n",
    "print (file.readlines())\n",
    "\n",
    "file.close()"
   ]
  },
  {
   "cell_type": "code",
   "execution_count": 11,
   "metadata": {},
   "outputs": [
    {
     "name": "stdout",
     "output_type": "stream",
     "text": [
      "Automarken\n"
     ]
    }
   ],
   "source": [
    "file = open(\"Autos.txt\", \"r\")\n",
    "\n",
    "print (file.read(10))\n",
    "\n",
    "file.close()"
   ]
  },
  {
   "cell_type": "code",
   "execution_count": 18,
   "metadata": {},
   "outputs": [
    {
     "name": "stdout",
     "output_type": "stream",
     "text": [
      "Automarken\n",
      "\n",
      "VW\n",
      "Opel\n",
      "Audi\n",
      "Porsche\n"
     ]
    }
   ],
   "source": [
    "file = open(\"Autos.txt\")\n",
    "for line in file:\n",
    "    print(line.rstrip())\n",
    "file.close()"
   ]
  },
  {
   "cell_type": "code",
   "execution_count": 22,
   "metadata": {},
   "outputs": [
    {
     "name": "stdout",
     "output_type": "stream",
     "text": [
      "Automarken\n",
      "\n",
      "VW\n",
      "Opel\n",
      "Audi\n",
      "Porsche\n",
      "Benz\n",
      "\n"
     ]
    }
   ],
   "source": [
    "file = open(\"Autos.txt\", \"r\")\n",
    "\n",
    "print (file.read())\n",
    "\n",
    "file.close()"
   ]
  },
  {
   "cell_type": "markdown",
   "metadata": {},
   "source": [
    "# Beispiel: Abschnitte "
   ]
  },
  {
   "cell_type": "code",
   "execution_count": 23,
   "metadata": {},
   "outputs": [],
   "source": [
    "file = open(\"test.txt\", \"w\")\n",
    "\n",
    "file.write(\"Es können auch Abschnitte ausgelesen werden\")\n",
    "\n",
    "file.close()"
   ]
  },
  {
   "cell_type": "code",
   "execution_count": 24,
   "metadata": {},
   "outputs": [
    {
     "name": "stdout",
     "output_type": "stream",
     "text": [
      "Es können auch Abschnitte ausgelesen werden\n",
      "\n",
      "\n",
      "Abschnitte\n"
     ]
    }
   ],
   "source": [
    "file = open(\"test.txt\").read()\n",
    "\n",
    "print(file)\n",
    "print(\"\\n\")\n",
    "print(file[15:25])\n"
   ]
  },
  {
   "cell_type": "markdown",
   "metadata": {},
   "source": [
    "# Text hinzufügen"
   ]
  },
  {
   "cell_type": "code",
   "execution_count": 20,
   "metadata": {},
   "outputs": [],
   "source": [
    "file = open(\"Autos.txt\", \"a\")\n",
    "\n",
    "file.write(\"Benz\\n\")\n",
    "\n",
    "file.close()"
   ]
  },
  {
   "cell_type": "markdown",
   "metadata": {},
   "source": [
    "# Übung 1"
   ]
  },
  {
   "cell_type": "code",
   "execution_count": 25,
   "metadata": {},
   "outputs": [],
   "source": [
    "file = open(\"Namen.txt\", \"w\")\n",
    "\n",
    "file.write(\"Student\\n\")\n",
    "file.write(\"Ernie\\n\")\n",
    "file.write(\"Bert\\n\")\n",
    "\n",
    "file.close()"
   ]
  },
  {
   "cell_type": "markdown",
   "metadata": {},
   "source": [
    "# Übung 2"
   ]
  },
  {
   "cell_type": "code",
   "execution_count": 28,
   "metadata": {},
   "outputs": [
    {
     "name": "stdout",
     "output_type": "stream",
     "text": [
      "Student\n",
      "Ernie\n",
      "Bert\n",
      "\n"
     ]
    }
   ],
   "source": [
    "file = open(\"Namen.txt\")\n",
    "\n",
    "print(file.read())\n",
    "\n",
    "file.close()"
   ]
  },
  {
   "cell_type": "markdown",
   "metadata": {},
   "source": [
    "# Übung 3"
   ]
  },
  {
   "cell_type": "code",
   "execution_count": 2,
   "metadata": {},
   "outputs": [
    {
     "name": "stdout",
     "output_type": "stream",
     "text": [
      "Student\n"
     ]
    }
   ],
   "source": [
    "file = open(\"Namen.txt\")\n",
    "\n",
    "print(file.read(7))\n",
    "\n",
    "file.close()"
   ]
  }
 ],
 "metadata": {
  "kernelspec": {
   "display_name": "Python 3",
   "language": "python",
   "name": "python3"
  },
  "language_info": {
   "codemirror_mode": {
    "name": "ipython",
    "version": 3
   },
   "file_extension": ".py",
   "mimetype": "text/x-python",
   "name": "python",
   "nbconvert_exporter": "python",
   "pygments_lexer": "ipython3",
   "version": "3.7.3"
  }
 },
 "nbformat": 4,
 "nbformat_minor": 2
}
