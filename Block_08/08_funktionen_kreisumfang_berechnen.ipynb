{
 "cells": [
  {
   "cell_type": "code",
   "execution_count": 5,
   "metadata": {},
   "outputs": [
    {
     "name": "stdout",
     "output_type": "stream",
     "text": [
      "Geben Sie den Radius ein: 2\n",
      "Der Kreisumfang beträgt  12.566370614359172\n"
     ]
    }
   ],
   "source": [
    "import math \n",
    "\n",
    "def kreisumfang_berechnen(radius):\n",
    "    # Die Funktion berechnet den Kreisumfang anhand des übergebenen\n",
    "    # Radius und gibt diesen mit >>return<< zurück.\n",
    "    return 2*math.pi*radius\n",
    "\n",
    "radius = int(input(\"Geben Sie den Radius ein: \"))\n",
    "kreisumfang = kreisumfang_berechnen(radius)\n",
    "# Die Funktion kreisumfang_berechnen wird aufgerufen, und der Rückgabewert \n",
    "# in der Variable kreisumfang gespeichert.\n",
    "\n",
    "print(\"Der Kreisumfang beträgt \", kreisumfang)"
   ]
  },
  {
   "cell_type": "code",
   "execution_count": null,
   "metadata": {},
   "outputs": [],
   "source": []
  }
 ],
 "metadata": {
  "kernelspec": {
   "display_name": "Python 3",
   "language": "python",
   "name": "python3"
  },
  "language_info": {
   "codemirror_mode": {
    "name": "ipython",
    "version": 3
   },
   "file_extension": ".py",
   "mimetype": "text/x-python",
   "name": "python",
   "nbconvert_exporter": "python",
   "pygments_lexer": "ipython3",
   "version": "3.7.3"
  }
 },
 "nbformat": 4,
 "nbformat_minor": 2
}
