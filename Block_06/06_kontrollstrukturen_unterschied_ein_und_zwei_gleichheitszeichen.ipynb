{
 "cells": [
  {
   "cell_type": "code",
   "execution_count": 3,
   "metadata": {},
   "outputs": [],
   "source": [
    " = wird zur Wertzuweisung genutzt\n",
    "    \n",
    "a = 5  # der Variable a wird der Wert 5 gegeben\n",
    "\n",
    "\n",
    " == werden genutzt, um zu überprüfen, ob das\n",
    "    linke Element gleich dem rechten Element ist.\n",
    "    \n",
    "if (a == 5):  # es wird geprüft, ob die Variable a dem Wert 5 entspricht\n",
    "    pass"
   ]
  },
  {
   "cell_type": "code",
   "execution_count": null,
   "metadata": {},
   "outputs": [],
   "source": []
  }
 ],
 "metadata": {
  "kernelspec": {
   "display_name": "Python 3",
   "language": "python",
   "name": "python3"
  },
  "language_info": {
   "codemirror_mode": {
    "name": "ipython",
    "version": 3
   },
   "file_extension": ".py",
   "mimetype": "text/x-python",
   "name": "python",
   "nbconvert_exporter": "python",
   "pygments_lexer": "ipython3",
   "version": "3.7.3"
  }
 },
 "nbformat": 4,
 "nbformat_minor": 2
}
