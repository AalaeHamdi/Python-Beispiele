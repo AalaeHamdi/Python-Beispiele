{
 "cells": [
  {
   "cell_type": "code",
   "execution_count": 1,
   "metadata": {},
   "outputs": [
    {
     "name": "stdout",
     "output_type": "stream",
     "text": [
      "0\n",
      "1\n",
      "2\n",
      "3\n"
     ]
    }
   ],
   "source": [
    "for i in range(10):\n",
    "    print(i)\n",
    "    if (i == 3):\n",
    "        break  # Die Schleife wird \n",
    "               # sofort beendet"
   ]
  },
  {
   "cell_type": "code",
   "execution_count": 4,
   "metadata": {},
   "outputs": [
    {
     "name": "stdout",
     "output_type": "stream",
     "text": [
      "Der Wert von i beträgt 0\n",
      "Der Wert von i beträgt 5\n",
      "Der Wert von i beträgt 10\n",
      "Der Wert von i beträgt 30\n"
     ]
    }
   ],
   "source": [
    "i = 0\n",
    "while (i < 35):\n",
    "    print(\"Der Wert von i beträgt\", i)\n",
    "    if (i == 10):\n",
    "        i += 20\n",
    "        continue  # Es wird sofort ein \n",
    "                  # neuer Schleifedurchlauf \n",
    "                  # gestartet\n",
    "    i += 5"
   ]
  },
  {
   "cell_type": "code",
   "execution_count": null,
   "metadata": {},
   "outputs": [],
   "source": [
    "def multiplizieren_mit_2(zahl):\n",
    "    return zahl * 2\n",
    "    # return gibt den Wert, hier zahl * 2, zurück an die Stelle, \n",
    "    # wo die Funktion multiplizieren_mit_2 aufgerufen wurde\n",
    "    \n",
    "ergebnis = multiplizieren_mit_2(50)  # Aufruf der Funktion\n",
    "print(ergebnis)"
   ]
  },
  {
   "cell_type": "code",
   "execution_count": null,
   "metadata": {},
   "outputs": [],
   "source": []
  }
 ],
 "metadata": {
  "kernelspec": {
   "display_name": "Python 3",
   "language": "python",
   "name": "python3"
  },
  "language_info": {
   "codemirror_mode": {
    "name": "ipython",
    "version": 3
   },
   "file_extension": ".py",
   "mimetype": "text/x-python",
   "name": "python",
   "nbconvert_exporter": "python",
   "pygments_lexer": "ipython3",
   "version": "3.7.3"
  }
 },
 "nbformat": 4,
 "nbformat_minor": 2
}
