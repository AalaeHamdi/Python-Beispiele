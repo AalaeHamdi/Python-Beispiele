{
 "cells": [
  {
   "cell_type": "code",
   "execution_count": null,
   "metadata": {},
   "outputs": [],
   "source": []
  },
  {
   "cell_type": "code",
   "execution_count": 6,
   "metadata": {},
   "outputs": [
    {
     "name": "stdout",
     "output_type": "stream",
     "text": [
      "Sie können nur eigene Figuren bewegen\n"
     ]
    }
   ],
   "source": [
    "spieler_weiß = True\n",
    "figur = 'B'\n",
    "\n",
    "# Bei einem Schachspiel überprüfen, ob der Spieler \n",
    "# eine eigene Figur ausgewählt hat. \n",
    "# Weiße Figuren verwenden kleinbuchstaben ('b', 't', 'p', 'l', 'd', 'k')\n",
    "# Schwarze Figuren verwenden Großbuchstaben ('B', 'T', 'P', 'L', 'D', 'K')\n",
    "\n",
    "if (spieler_weiß == True):\n",
    "    if (figur == 'b' or figur == 't' or figur == 'p' or figur == 'l' or figur == 'd' or figur == 'k'):\n",
    "        eigene_figur_gewählt = True\n",
    "    else:\n",
    "        print(\"Sie können nur eigene Figuren bewegen\")\n",
    "        eigene_figur_gewählt = False\n",
    "    \n",
    "else:  # wenn spieler_weiß != True, ist Schwarz am Zug\n",
    "    if (figur == 'B' or figur == 'T' or figur == 'P' or figur == 'L' or figur == 'D' or figur == 'K'):\n",
    "        eigene_figur_gewählt = True\n",
    "    else:\n",
    "        print(\"Sie können nur eigene Figuren bewegen\")\n",
    "        eigene_figur_gewählt = False"
   ]
  },
  {
   "cell_type": "code",
   "execution_count": null,
   "metadata": {},
   "outputs": [],
   "source": []
  }
 ],
 "metadata": {
  "kernelspec": {
   "display_name": "Python 3",
   "language": "python",
   "name": "python3"
  },
  "language_info": {
   "codemirror_mode": {
    "name": "ipython",
    "version": 3
   },
   "file_extension": ".py",
   "mimetype": "text/x-python",
   "name": "python",
   "nbconvert_exporter": "python",
   "pygments_lexer": "ipython3",
   "version": "3.7.3"
  }
 },
 "nbformat": 4,
 "nbformat_minor": 2
}
