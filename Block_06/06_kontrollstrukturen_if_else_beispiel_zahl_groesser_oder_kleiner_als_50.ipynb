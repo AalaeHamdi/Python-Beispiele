{
 "cells": [
  {
   "cell_type": "code",
   "execution_count": 1,
   "metadata": {},
   "outputs": [
    {
     "name": "stdout",
     "output_type": "stream",
     "text": [
      "Bitte Zahl eingeben\n",
      "30\n",
      "Die Zahl 30 ist kleiner als 50\n"
     ]
    }
   ],
   "source": [
    "# Es wird getestet, ob eine eingegebene Zahl\n",
    "# größer, gleich, oder kleiner als 50 ist\n",
    "\n",
    "print(\"Bitte Zahl eingeben\")\n",
    "# Eingabeaufforderung für einen Integer\n",
    "zahl = int(input())\n",
    "\n",
    "if (zahl > 50):\n",
    "    # Wenn die Zahl größer als 50 ist\n",
    "    print(f\"Die Zahl {zahl} ist größer als 50\")\n",
    "elif (zahl == 50):\n",
    "    # Wenn die Zahl genau gleich 50 ist\n",
    "    print(f\"Die Zahl {zahl} ist gleich 50\")\n",
    "else:\n",
    "    # Wenn keine der vorherigen Bedingungen wahr ist,\n",
    "    # wird dieser print-Befehl ausgeführt\n",
    "    print(f\"Die Zahl {zahl} ist kleiner als 50\")"
   ]
  },
  {
   "cell_type": "code",
   "execution_count": null,
   "metadata": {},
   "outputs": [],
   "source": []
  }
 ],
 "metadata": {
  "kernelspec": {
   "display_name": "Python 3",
   "language": "python",
   "name": "python3"
  },
  "language_info": {
   "codemirror_mode": {
    "name": "ipython",
    "version": 3
   },
   "file_extension": ".py",
   "mimetype": "text/x-python",
   "name": "python",
   "nbconvert_exporter": "python",
   "pygments_lexer": "ipython3",
   "version": "3.7.3"
  }
 },
 "nbformat": 4,
 "nbformat_minor": 2
}
