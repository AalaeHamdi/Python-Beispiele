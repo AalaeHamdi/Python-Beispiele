{
 "cells": [
  {
   "cell_type": "markdown",
   "metadata": {},
   "source": [
    "# Echter Array"
   ]
  },
  {
   "cell_type": "code",
   "execution_count": 20,
   "metadata": {},
   "outputs": [],
   "source": [
    "import array as arr\n",
    "a= arr.array('i', [1,2,3])"
   ]
  },
  {
   "cell_type": "code",
   "execution_count": 22,
   "metadata": {},
   "outputs": [
    {
     "ename": "TypeError",
     "evalue": "integer argument expected, got float",
     "output_type": "error",
     "traceback": [
      "\u001b[1;31m---------------------------------------------------------------------------\u001b[0m",
      "\u001b[1;31mTypeError\u001b[0m                                 Traceback (most recent call last)",
      "\u001b[1;32m<ipython-input-22-c11d7ecf09e9>\u001b[0m in \u001b[0;36m<module>\u001b[1;34m\u001b[0m\n\u001b[0;32m      1\u001b[0m \u001b[1;32mimport\u001b[0m \u001b[0marray\u001b[0m \u001b[1;32mas\u001b[0m \u001b[0marr\u001b[0m\u001b[1;33m\u001b[0m\u001b[1;33m\u001b[0m\u001b[0m\n\u001b[1;32m----> 2\u001b[1;33m \u001b[0ma\u001b[0m \u001b[1;33m=\u001b[0m \u001b[0marr\u001b[0m\u001b[1;33m.\u001b[0m\u001b[0marray\u001b[0m\u001b[1;33m(\u001b[0m\u001b[1;34m'i'\u001b[0m\u001b[1;33m,\u001b[0m \u001b[1;33m[\u001b[0m\u001b[1;36m1\u001b[0m\u001b[1;33m,\u001b[0m \u001b[1;36m1.5\u001b[0m\u001b[1;33m,\u001b[0m \u001b[1;36m2\u001b[0m\u001b[1;33m,\u001b[0m \u001b[1;36m2.5\u001b[0m\u001b[1;33m,\u001b[0m \u001b[1;36m3\u001b[0m\u001b[1;33m]\u001b[0m\u001b[1;33m)\u001b[0m\u001b[1;33m\u001b[0m\u001b[1;33m\u001b[0m\u001b[0m\n\u001b[0m",
      "\u001b[1;31mTypeError\u001b[0m: integer argument expected, got float"
     ]
    }
   ],
   "source": [
    "import array as arr\n",
    "a = arr.array('i', [1, 1.5, 2, 2.5, 3])"
   ]
  },
  {
   "cell_type": "code",
   "execution_count": 23,
   "metadata": {},
   "outputs": [],
   "source": [
    "list = [1, 1.5, 2, 2.5, 3]"
   ]
  },
  {
   "cell_type": "markdown",
   "metadata": {},
   "source": [
    "# Eindimensionales Feld"
   ]
  },
  {
   "cell_type": "code",
   "execution_count": 1,
   "metadata": {},
   "outputs": [],
   "source": [
    "car1 = \"BMW\"\n",
    "car2 = \"Opel\"\n",
    "car3 = \"VW\"\n",
    "car4 = \"Benz\""
   ]
  },
  {
   "cell_type": "code",
   "execution_count": 2,
   "metadata": {},
   "outputs": [],
   "source": [
    "cars = [\"BMW\", \"Opel\", \"VW\", \"Benz\"]"
   ]
  },
  {
   "cell_type": "code",
   "execution_count": 2,
   "metadata": {},
   "outputs": [
    {
     "name": "stdout",
     "output_type": "stream",
     "text": [
      "var1\n"
     ]
    }
   ],
   "source": [
    "nameDesFeldes = [\"var1\", \"var2\", \"var3\"]\n",
    "print(nameDesFeldes[0])"
   ]
  },
  {
   "cell_type": "code",
   "execution_count": 4,
   "metadata": {},
   "outputs": [
    {
     "name": "stdout",
     "output_type": "stream",
     "text": [
      "var1\n",
      "var2\n",
      "var3\n"
     ]
    }
   ],
   "source": [
    "nameDesFeldes = [\"var1\", \"var2\", \"var3\"]\n",
    "for x in nameDesFeldes:\n",
    "    print(x)"
   ]
  },
  {
   "cell_type": "code",
   "execution_count": 5,
   "metadata": {},
   "outputs": [
    {
     "name": "stdout",
     "output_type": "stream",
     "text": [
      "BMW\n",
      "Opel\n",
      "Ford\n",
      "Benz\n"
     ]
    }
   ],
   "source": [
    "cars = [\"BMW\", \"Opel\", \"VW\", \"Benz\"]\n",
    "cars[2]=\"Ford\"\n",
    "for x in cars:\n",
    "    print(x)"
   ]
  },
  {
   "cell_type": "code",
   "execution_count": 8,
   "metadata": {},
   "outputs": [
    {
     "name": "stdout",
     "output_type": "stream",
     "text": [
      "BMW\n",
      "Opel\n",
      "VW\n",
      "Benz\n",
      "Audi\n"
     ]
    }
   ],
   "source": [
    "cars = [\"BMW\", \"Opel\", \"VW\", \"Benz\"]\n",
    "cars.append(\"Audi\")\n",
    "for x in cars:\n",
    "    print(x)"
   ]
  },
  {
   "cell_type": "code",
   "execution_count": 2,
   "metadata": {},
   "outputs": [
    {
     "name": "stdout",
     "output_type": "stream",
     "text": [
      "BMW\n",
      "Porsche\n",
      "Opel\n",
      "VW\n",
      "Benz\n"
     ]
    }
   ],
   "source": [
    "cars = [\"BMW\", \"Opel\", \"VW\", \"Benz\"]\n",
    "cars.insert(1,\"Porsche\")\n",
    "for x in cars:\n",
    "    print(x)"
   ]
  },
  {
   "cell_type": "code",
   "execution_count": 3,
   "metadata": {},
   "outputs": [
    {
     "name": "stdout",
     "output_type": "stream",
     "text": [
      "BMW\n",
      "Opel\n",
      "VW\n"
     ]
    }
   ],
   "source": [
    "cars = [\"BMW\", \"Opel\", \"VW\", \"Benz\"]\n",
    "cars.pop(3)\n",
    "for x in cars:\n",
    "    print(x)"
   ]
  },
  {
   "cell_type": "code",
   "execution_count": 4,
   "metadata": {},
   "outputs": [
    {
     "name": "stdout",
     "output_type": "stream",
     "text": [
      "Opel\n",
      "VW\n",
      "Benz\n",
      "BMW\n"
     ]
    }
   ],
   "source": [
    "cars = [\"BMW\", \"Opel\", \"VW\", \"Benz\",\"BMW\"]\n",
    "cars.remove(\"BMW\")\n",
    "for x in cars:\n",
    "    print(x)"
   ]
  },
  {
   "cell_type": "code",
   "execution_count": 5,
   "metadata": {},
   "outputs": [
    {
     "name": "stdout",
     "output_type": "stream",
     "text": [
      "[]\n"
     ]
    }
   ],
   "source": [
    "cars = [\"BMW\", \"Opel\", \"VW\", \"Benz\"]\n",
    "cars.clear()\n",
    "print(cars)"
   ]
  },
  {
   "cell_type": "code",
   "execution_count": 6,
   "metadata": {},
   "outputs": [
    {
     "name": "stdout",
     "output_type": "stream",
     "text": [
      "BMW 3\n",
      "Opel 4\n",
      "VW 2\n",
      "Porsche 7\n",
      "\n",
      "VW\n",
      "BMW\n",
      "Opel\n",
      "Porsche\n"
     ]
    }
   ],
   "source": [
    "def critFunc(e):                          # Definition der Funktion für die Kriterien.\n",
    "    print(e, len(e))                      # Graphische Ausgabe des untersuchten Elementes e und dessen Länge\n",
    "    return len(e)                         # Rückgabe der Länge des untersuchten Elementes\n",
    "\n",
    "cars = [\"BMW\", \"Opel\", \"VW\", \"Porsche\"]   # Initialisierung des Feldes\n",
    "cars.sort(reverse=False, key=critFunc)    # Aufruf der Methode sort zum sortieren des Feldes. Keine Umkehr der Sortierung(False)\n",
    "print()                                   # Graphische Ausgabe einer leeren Zeile\n",
    "for x in cars:                            # Loop zur Graphischen Ausgabe des Feldes\n",
    "    print(x)"
   ]
  },
  {
   "cell_type": "code",
   "execution_count": 8,
   "metadata": {},
   "outputs": [
    {
     "name": "stdout",
     "output_type": "stream",
     "text": [
      "18.1 C : 64.58 F\n",
      "19.6 C : 67.28 F\n",
      "20.5 C : 68.9 F\n",
      "21.9 C : 71.42 F\n"
     ]
    }
   ],
   "source": [
    "def fahrenheit(T_in_celsius):               # Definition der Funktion für die Umrechnung von C in F\n",
    "    return (T_in_celsius * 9/5) + 32        # Rückgabe des Fahrenheitwertes\n",
    "\n",
    "temp = [18.1, 19.6, 20.5, 21.9]             # Initialisierung eines Feldes mit Temp-Werten in C\n",
    "for t in temp:                              # For-Schleife um nacheinander die Werte auszulesen\n",
    "    print(t,\"C\", \":\", fahrenheit(t), \"F\")   # Graphische Ausgabe der Temp-Werte, sowie Aufruf der fahrenheit Funktion"
   ]
  },
  {
   "cell_type": "markdown",
   "metadata": {},
   "source": [
    "# Mehrdimensionale Felder"
   ]
  },
  {
   "cell_type": "code",
   "execution_count": 12,
   "metadata": {},
   "outputs": [],
   "source": [
    "nameDesFeldes = [[\"Reihe_0\"], [\"Reihe_1\"], [\"Reihe_2\"], [\"Reihe_3\"]]"
   ]
  },
  {
   "cell_type": "code",
   "execution_count": 13,
   "metadata": {},
   "outputs": [
    {
     "name": "stdout",
     "output_type": "stream",
     "text": [
      "4\n"
     ]
    }
   ],
   "source": [
    "matrix = [[1,2,3], [4,5,6], [7,8,9]]\n",
    "print(matrix[1][0])"
   ]
  },
  {
   "cell_type": "code",
   "execution_count": 18,
   "metadata": {},
   "outputs": [
    {
     "name": "stdout",
     "output_type": "stream",
     "text": [
      "1 2 3 \n",
      "4 5 6 \n",
      "7 8 9 \n"
     ]
    }
   ],
   "source": [
    "matrix = [[1,2,3], [4,5,6], [7,8,9]] # Initialisierung einer 3x3 Matrix\n",
    "for i in range(len(matrix)):         # 1. Schleife durchläuft die Zeilennummer\n",
    "    for j in range(len(matrix[i])):  # 2. Schleife durchläuft die Spaltennummer\n",
    "        print(matrix[i][j], end=' ') # Graphische Ausgabe des jeweiligen Wertes\n",
    "    print()                          # Graphische Asgabe einer neuen Zeile"
   ]
  },
  {
   "cell_type": "code",
   "execution_count": 3,
   "metadata": {},
   "outputs": [
    {
     "name": "stdout",
     "output_type": "stream",
     "text": [
      "1 2 3 \n",
      "4 5 6 \n",
      "7 8 9 \n"
     ]
    }
   ],
   "source": [
    "matrix = [[1,2,3], [4,5,6], [7,8,9]] # Initialisierung einer 3x3 Matrix\n",
    "for row in matrix:                   # 1. Schleife durchläuft Reihe\n",
    "    for elem in row:                 # 2. Schleife durchläuft Elemente einer Reihe\n",
    "        print(elem, end=' ')         # Graphische Ausgabe des jeweiligen Elements\n",
    "    print()                          # Graphische Ausgabe einer neuen Zeile"
   ]
  },
  {
   "cell_type": "code",
   "execution_count": 1,
   "metadata": {},
   "outputs": [
    {
     "name": "stdout",
     "output_type": "stream",
     "text": [
      "Bitte Anzahl der Zeilen eingeben:2\n",
      "Bitte Werte für die 0 Zeile eingeben:\n",
      "1 6\n",
      "Bitte Werte für die 1 Zeile eingeben:\n",
      "5 8\n",
      "\n",
      "Ihre Eingabe:\n",
      "1 6 \n",
      "5 8 \n"
     ]
    }
   ],
   "source": [
    "zeilen = int(input(\"Bitte Anzahl der Zeilen eingeben:\"))  # Initialisierung einer Ganzzahlvariable und dessen Eingabe \n",
    "matrix = []                                               # Initialisierung eines leeren Feldes\n",
    "for i in range(zeilen):                                   # Schleife durchläuft von 0 bis zeilen-1\n",
    "    print(\"Bitte Werte für die\", i, \"Zeile eingeben:\")    # Graphische Ausgabe in Welcher Zeile sich die Schleife befindet\n",
    "    matrix.append([int(j) for j in input().split()])      # Aufruf einer Methode um die Werte einzugeben & hinzu zufügen\n",
    "print()                                                   # Graphische Ausgabe einer neuen Zeile\n",
    "print(\"Ihre Eingabe:\")                                    # Graphische Ausgabe Text\n",
    "    \n",
    "for row in matrix:                                        # 1. Schleife durchläuft Reihe\n",
    "    for elem in row:                                      # 2. Schleife durchläuft Elemente einer Reihe\n",
    "        print(elem, end=' ')                              # Graphische Ausgabe des jeweiligen Elements\n",
    "    print()                                               # Graphische Ausgabe einer neuen Zeile"
   ]
  },
  {
   "cell_type": "markdown",
   "metadata": {},
   "source": [
    "# Strings"
   ]
  },
  {
   "cell_type": "code",
   "execution_count": 2,
   "metadata": {},
   "outputs": [
    {
     "name": "stdout",
     "output_type": "stream",
     "text": [
      "u\n"
     ]
    }
   ],
   "source": [
    "car = \"Audi\"\n",
    "letter = car[1]\n",
    "print(letter)"
   ]
  },
  {
   "cell_type": "code",
   "execution_count": 2,
   "metadata": {},
   "outputs": [
    {
     "ename": "TypeError",
     "evalue": "'str' object does not support item assignment",
     "output_type": "error",
     "traceback": [
      "\u001b[1;31m---------------------------------------------------------------------------\u001b[0m",
      "\u001b[1;31mTypeError\u001b[0m                                 Traceback (most recent call last)",
      "\u001b[1;32m<ipython-input-2-a793a4d9cc38>\u001b[0m in \u001b[0;36m<module>\u001b[1;34m\u001b[0m\n\u001b[0;32m      1\u001b[0m \u001b[0mcar\u001b[0m \u001b[1;33m=\u001b[0m \u001b[1;34m\"BMW\"\u001b[0m\u001b[1;33m\u001b[0m\u001b[1;33m\u001b[0m\u001b[0m\n\u001b[1;32m----> 2\u001b[1;33m \u001b[0mcar\u001b[0m\u001b[1;33m[\u001b[0m\u001b[1;36m0\u001b[0m\u001b[1;33m]\u001b[0m \u001b[1;33m=\u001b[0m \u001b[1;34m\"V\"\u001b[0m\u001b[1;33m\u001b[0m\u001b[1;33m\u001b[0m\u001b[0m\n\u001b[0m",
      "\u001b[1;31mTypeError\u001b[0m: 'str' object does not support item assignment"
     ]
    }
   ],
   "source": [
    "car = \"BMW\"\n",
    "car[0] = \"V\""
   ]
  },
  {
   "cell_type": "code",
   "execution_count": 17,
   "metadata": {},
   "outputs": [
    {
     "name": "stdout",
     "output_type": "stream",
     "text": [
      "Bitte Wort eingeben:Audi\n",
      "Ihr Wort kommt vor BMW\n"
     ]
    }
   ],
   "source": [
    "#Alphabetische Sortierung\n",
    "word = input(\"Bitte Wort eingeben:\")\n",
    "\n",
    "if word < \"BMW\":\n",
    "    print(\"Ihr Wort kommt vor BMW\")\n",
    "elif word > \"BMW\":\n",
    "    print(\"Ihr Wort kommt nach BMW\")"
   ]
  },
  {
   "cell_type": "code",
   "execution_count": 21,
   "metadata": {},
   "outputs": [
    {
     "name": "stdout",
     "output_type": "stream",
     "text": [
      "Bob\n",
      "Job\n",
      "Mob\n"
     ]
    }
   ],
   "source": [
    "prefix=\"BJM\"\n",
    "suffix=\"ob\"\n",
    "\n",
    "for letter in prefix:\n",
    "    print(letter + suffix)"
   ]
  },
  {
   "cell_type": "code",
   "execution_count": 22,
   "metadata": {},
   "outputs": [
    {
     "name": "stdout",
     "output_type": "stream",
     "text": [
      "7\n"
     ]
    }
   ],
   "source": [
    "car = \"Porsche\"\n",
    "print(len(car))"
   ]
  },
  {
   "cell_type": "code",
   "execution_count": 34,
   "metadata": {},
   "outputs": [
    {
     "name": "stdout",
     "output_type": "stream",
     "text": [
      "Bitte Wort eingeben:Zoologe\n",
      "Nach welchem Buchstaben soll gesucht werden?o\n",
      "3\n"
     ]
    }
   ],
   "source": [
    "word = input(\"Bitte Wort eingeben:\")\n",
    "searchChar = input(\"Nach welchem Buchstaben soll gesucht werden?\")\n",
    "counter = 0\n",
    "\n",
    "for char in word:\n",
    "    if char == searchChar:\n",
    "        counter = counter + 1\n",
    "print(counter)"
   ]
  },
  {
   "cell_type": "code",
   "execution_count": 2,
   "metadata": {},
   "outputs": [
    {
     "name": "stdout",
     "output_type": "stream",
     "text": [
      "Motor\n",
      "Getriebe\n"
     ]
    }
   ],
   "source": [
    "string =\"Motor und Getriebe wirken zusammen\"\n",
    "print(string[0:5])\n",
    "print(string[10:18])"
   ]
  },
  {
   "cell_type": "code",
   "execution_count": 4,
   "metadata": {},
   "outputs": [
    {
     "name": "stdout",
     "output_type": "stream",
     "text": [
      "Rotor\n"
     ]
    }
   ],
   "source": [
    "string =\"Motor und Getriebe wirken zusammen.\"\n",
    "newString = \"R\" + string[1:5]\n",
    "print(newString)"
   ]
  },
  {
   "cell_type": "code",
   "execution_count": 5,
   "metadata": {},
   "outputs": [],
   "source": [
    "tupel = (\"VW\", \"Prosche\", \"BMW\", \"Opel\")"
   ]
  },
  {
   "cell_type": "code",
   "execution_count": 6,
   "metadata": {},
   "outputs": [],
   "source": [
    "tupel = (\"VW\",)"
   ]
  },
  {
   "cell_type": "code",
   "execution_count": 12,
   "metadata": {},
   "outputs": [
    {
     "name": "stdout",
     "output_type": "stream",
     "text": [
      "0.24999667668640035\n",
      "0.9528169091459117\n",
      "0.9965569925394552\n",
      "0.04455638245043303\n",
      "0.860161037286291\n",
      "0.603190610968185\n",
      "0.3816059859191179\n",
      "0.28361821790671515\n",
      "0.674964847134956\n",
      "0.45683115105830563\n"
     ]
    }
   ],
   "source": [
    "import random            # Python benötigt für eine \"zufällige Zahl\" das random Modul\n",
    "\n",
    "for i in range(10):      # Schleife für 10 Durchläufe\n",
    "    x = random.random()  # Aufruf der random Funktion \n",
    "    print(x)             # Graphische ausgabe"
   ]
  },
  {
   "cell_type": "markdown",
   "metadata": {},
   "source": [
    "# Übung Array (Listen) in Python"
   ]
  },
  {
   "cell_type": "code",
   "execution_count": 29,
   "metadata": {},
   "outputs": [
    {
     "name": "stdout",
     "output_type": "stream",
     "text": [
      "BMW\n",
      "Opel\n",
      "VW\n",
      "Benz\n",
      "Audi\n"
     ]
    }
   ],
   "source": [
    "car1 = \"BMW\"                          # Variable mit der 1. Automarke\n",
    "car2 = \"Opel\"                         # Variable mit der 2. Automarke\n",
    "car3 = \"VW\"                           # Variable mit der 3. Automarke\n",
    "car4 = \"Benz\"                         # Variable mit der 4. Automarke\n",
    "car5 = \"Audi\"                         # Variable mit der 5. Automarke\n",
    "\n",
    "car = [car1, car2, car3 ,car4 , car5] # Initialisierung einer Liste mit den Variablen als Wertzuweisung\n",
    "\n",
    "for i in car:                         # Schleife, welche die Liste durchläuft\n",
    "    print(i)                          # Graphische Ausgabe des Elementes"
   ]
  },
  {
   "cell_type": "code",
   "execution_count": 32,
   "metadata": {},
   "outputs": [
    {
     "name": "stdout",
     "output_type": "stream",
     "text": [
      "Geben Sie eine Automarke ein:Porsche\n",
      "\n",
      "Opel\n",
      "Porsche\n",
      "Benz\n",
      "Audi\n"
     ]
    }
   ],
   "source": [
    "car1 = \"BMW\"                                  # Variable mit der 1. Automarke\n",
    "car2 = \"Opel\"                                 # Variable mit der 2. Automarke\n",
    "car3 = \"VW\"                                   # Variable mit der 3. Automarke\n",
    "car4 = \"Benz\"                                 # Variable mit der 4. Automarke\n",
    "car5 = \"Audi\"                                 # Variable mit der 5. Automarke\n",
    "\n",
    "car = [car1, car2, car3 ,car4 , car5]         # Initialisierung einer Liste mit den Variablen als Wertzuweisung\n",
    "\n",
    "car.pop(0)                                    # Löschen des ersten Elementes der Liste\n",
    "\n",
    "car[1]=input(\"Geben Sie eine Automarke ein:\") # Das zweite Element bekommt eine neue Wertzuweisung + Usereingabe\n",
    "\n",
    "print()                                       # Graphische Ausgabe einer leeren Zeile\n",
    "\n",
    "for i in car:                                 # Schleife, welche die Liste durchläuft\n",
    "    print(i)                                  # Graphische Ausgabe des Elementes"
   ]
  },
  {
   "cell_type": "code",
   "execution_count": 35,
   "metadata": {},
   "outputs": [
    {
     "name": "stdout",
     "output_type": "stream",
     "text": [
      "BMW 3\n",
      "Opel 4\n",
      "VW 2\n",
      "Porsche 7\n",
      "\n",
      "Porsche\n",
      "Opel\n",
      "BMW\n",
      "VW\n"
     ]
    }
   ],
   "source": [
    "def critFunc(e):                          # Definition der Funktion für die Kriterien.\n",
    "    print(e, len(e))                      # Graphische Ausgabe des untersuchten Elementes e und dessen Länge\n",
    "    return len(e)                         # Rückgabe der Länge des untersuchten Elementes\n",
    "\n",
    "cars = [\"BMW\", \"Opel\", \"VW\", \"Porsche\"]   # Initialisierung des Feldes\n",
    "cars.sort(reverse=True, key=critFunc)     # Aufruf der Methode sort zum Sortieren des Feldes. Umkehr der Sortierung(True)\n",
    "print()                                   # Graphische Ausgabe einer leeren Zeile\n",
    "for x in cars:                            # Loop zur Graphischen Ausgabe des Feldes\n",
    "    print(x)                              # Graphische Ausgabe der Elemente"
   ]
  },
  {
   "cell_type": "markdown",
   "metadata": {},
   "source": [
    "# Übung Strings"
   ]
  },
  {
   "cell_type": "code",
   "execution_count": 2,
   "metadata": {},
   "outputs": [
    {
     "name": "stdout",
     "output_type": "stream",
     "text": [
      "Bitte geben Sie ein Wort ein:Bugatti\n",
      "\n",
      "B\n",
      "u\n",
      "g\n",
      "a\n",
      "t\n",
      "t\n",
      "i\n",
      "\n",
      "7\n"
     ]
    }
   ],
   "source": [
    "word = input(\"Bitte geben Sie ein Wort ein:\") # Initialisierung eines Strings mit Benutzereingabe\n",
    "print()                                       # Graphische Ausgabe einer leeren Zeile\n",
    "\n",
    "def countChar(x):                             # Initialisierung einer Funktion mit Parameter\n",
    "    index = 0                                 # Initialisierung einer Variable mit 0 für das Zählen der Buchstaben\n",
    "    while index < len(x):                     # while-Schleife, solange der Index kleiner als die Länge des Wortes ist\n",
    "        letter = x[index]                     # Auslesen der einzelnen Buchstaben\n",
    "        print(letter)                         # Graphische Ausgabe der einzelnen Buchstaben\n",
    "        index = index + 1                     # Hochzählen des Index\n",
    "    print()                                   # Graphische Ausgabe einer leeren Zeile\n",
    "    print(index)                              # Graphische Ausgabe der Anzahl an Buchstaben\n",
    "    \n",
    "countChar(word)                               # Aufruf der Funktion & Übergabe des Parameters"
   ]
  },
  {
   "cell_type": "markdown",
   "metadata": {},
   "source": [
    "# Übung Tupel"
   ]
  },
  {
   "cell_type": "code",
   "execution_count": 16,
   "metadata": {},
   "outputs": [
    {
     "name": "stdout",
     "output_type": "stream",
     "text": [
      "1.0992086969977377\n",
      "4.397362930126402\n",
      "1.7921346058107162\n",
      "2.1488029365957884\n",
      "4.4953971876180985\n",
      "2.4494634174079764\n",
      "4.943896306270127\n",
      "3.564620196697364\n",
      "0.08780563898230231\n",
      "4.603090556458563\n",
      "2.1223923503834827\n",
      "0.7871252901452386\n",
      "4.697403350100606\n",
      "0.9269513004695873\n",
      "1.4411153681507494\n"
     ]
    }
   ],
   "source": [
    "import random            # Python benötigt für eine \"zufällige Zahl\" das random Modul\n",
    "high = 5                 # Initalisierung einer Variable als Grenze\n",
    "\n",
    "for i in range(15):      # Schleife für 15 Durchläufe\n",
    "    x = random.random()  # Aufruf der random Funktion \n",
    "    print(x * high)      # Graphische Ausgabe & random * Grenze"
   ]
  },
  {
   "cell_type": "code",
   "execution_count": 23,
   "metadata": {},
   "outputs": [
    {
     "name": "stdout",
     "output_type": "stream",
     "text": [
      "0.007888771574859232\n",
      "0.4693769457082313\n",
      "0.3193639418015227\n",
      "0.5865303150144594\n",
      "0.8224538005416439\n",
      "0.6846677497193157\n",
      "0.5084236916588726\n",
      "0.8257915853572807\n",
      "0.7170724513865079\n",
      "Das vierte Element ist: 0.5865303150144594\n"
     ]
    }
   ],
   "source": [
    "n = 9                           # Initialisierung einer Variable für die Anzahl an Elementen\n",
    "tupel = [0] * n                 # Initialisierung eines Tupels, welches leer ist\n",
    "for i in range(n):              # Schleife mit n Durchläufen, für das Einlesen der \"Zufallszahlen\"\n",
    "    tupel[i] = random.random()  # Einlesen der i-ten Zufallszahl und speichern in das Tupel\n",
    "\n",
    "for j in tupel:                 # Schleife für das Auslesen der Elemente im Tupel\n",
    "    print(j)                    # Graphische Ausgabe der Elemente\n",
    "    \n",
    "print(\"Das vierte Element ist:\", tupel[3])"
   ]
  },
  {
   "cell_type": "code",
   "execution_count": 27,
   "metadata": {},
   "outputs": [
    {
     "name": "stdout",
     "output_type": "stream",
     "text": [
      "Bitte Anzahl der Elemente eingeben:6\n",
      "0.7662998523654738\n",
      "0.05818463684667119\n",
      "0.42617505861196636\n",
      "0.3532503707720307\n",
      "0.603069624024932\n",
      "0.5721071651914507\n"
     ]
    }
   ],
   "source": [
    "n = int(input(\"Bitte Anzahl der Elemente eingeben:\")) # Initialisierung einer Variable für die Anzahl an Elementen und Abfrage\n",
    "\n",
    "def zufallList(x):                                    # Initalisierung einer Funktion mit Parameter\n",
    "    tupel = [0] * x                                   # Initialisierung eines Tupels, welches leer ist\n",
    "    for i in range(x):                                # Schleife mit x Durchläufen, für das Einlesen der \"Zufallszahlen\"\n",
    "        tupel[i] = random.random()                    # Einlesen der i-ten Zufallszahl und speichern in das Tupel\n",
    "    \n",
    "    for j in tupel:                                   # Schleife für das Auslesen der Elemente im Tupel\n",
    "        print(j)                                      # Graphische Ausgabe der Elemente\n",
    "\n",
    "zufallList(n)                                         # Aufruf der Funktion und Bestimmung des Parameters"
   ]
  },
  {
   "cell_type": "code",
   "execution_count": null,
   "metadata": {},
   "outputs": [],
   "source": []
  }
 ],
 "metadata": {
  "kernelspec": {
   "display_name": "Python 3",
   "language": "python",
   "name": "python3"
  },
  "language_info": {
   "codemirror_mode": {
    "name": "ipython",
    "version": 3
   },
   "file_extension": ".py",
   "mimetype": "text/x-python",
   "name": "python",
   "nbconvert_exporter": "python",
   "pygments_lexer": "ipython3",
   "version": "3.7.3"
  }
 },
 "nbformat": 4,
 "nbformat_minor": 2
}
